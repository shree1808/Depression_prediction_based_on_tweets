{
 "cells": [
  {
   "cell_type": "code",
   "execution_count": 5,
   "metadata": {},
   "outputs": [
    {
     "name": "stderr",
     "output_type": "stream",
     "text": [
      "[nltk_data] Downloading package punkt to\n",
      "[nltk_data]     C:\\Users\\Shree123\\AppData\\Roaming\\nltk_data...\n",
      "[nltk_data]   Package punkt is already up-to-date!\n",
      "[nltk_data] Downloading package stopwords to\n",
      "[nltk_data]     C:\\Users\\Shree123\\AppData\\Roaming\\nltk_data...\n",
      "[nltk_data]   Package stopwords is already up-to-date!\n"
     ]
    }
   ],
   "source": [
    "import pandas as pd\n",
    "import matplotlib.pyplot as plt\n",
    "import seaborn as sns\n",
    "import nltk\n",
    "import warnings \n",
    "warnings.filterwarnings('ignore')\n",
    "\n",
    "from collections import Counter\n",
    "from nltk.tokenize import word_tokenize, sent_tokenize\n",
    "import string\n",
    "from nltk.corpus import stopwords\n",
    "\n",
    "# Ensure necessary NLTK data is downloaded\n",
    "nltk.download('punkt')\n",
    "nltk.download('stopwords')\n",
    "\n",
    "import re"
   ]
  },
  {
   "cell_type": "code",
   "execution_count": 8,
   "metadata": {},
   "outputs": [],
   "source": [
    "# import data\n",
    "main_df = pd.read_csv('C:\\\\Users\\\\Shree123\\\\OneDrive\\\\Desktop\\\\nlp_project\\\\Data\\Mental-Health-Twitter.csv')"
   ]
  },
  {
   "cell_type": "code",
   "execution_count": 9,
   "metadata": {},
   "outputs": [
    {
     "data": {
      "text/html": [
       "<div>\n",
       "<style scoped>\n",
       "    .dataframe tbody tr th:only-of-type {\n",
       "        vertical-align: middle;\n",
       "    }\n",
       "\n",
       "    .dataframe tbody tr th {\n",
       "        vertical-align: top;\n",
       "    }\n",
       "\n",
       "    .dataframe thead th {\n",
       "        text-align: right;\n",
       "    }\n",
       "</style>\n",
       "<table border=\"1\" class=\"dataframe\">\n",
       "  <thead>\n",
       "    <tr style=\"text-align: right;\">\n",
       "      <th></th>\n",
       "      <th>post_text</th>\n",
       "      <th>label</th>\n",
       "    </tr>\n",
       "  </thead>\n",
       "  <tbody>\n",
       "    <tr>\n",
       "      <th>0</th>\n",
       "      <td>It's just over 2 years since I was diagnosed w...</td>\n",
       "      <td>1</td>\n",
       "    </tr>\n",
       "    <tr>\n",
       "      <th>1</th>\n",
       "      <td>It's Sunday, I need a break, so I'm planning t...</td>\n",
       "      <td>1</td>\n",
       "    </tr>\n",
       "    <tr>\n",
       "      <th>2</th>\n",
       "      <td>Awake but tired. I need to sleep but my brain ...</td>\n",
       "      <td>1</td>\n",
       "    </tr>\n",
       "    <tr>\n",
       "      <th>3</th>\n",
       "      <td>RT @SewHQ: #Retro bears make perfect gifts and...</td>\n",
       "      <td>1</td>\n",
       "    </tr>\n",
       "    <tr>\n",
       "      <th>4</th>\n",
       "      <td>It’s hard to say whether packing lists are mak...</td>\n",
       "      <td>1</td>\n",
       "    </tr>\n",
       "  </tbody>\n",
       "</table>\n",
       "</div>"
      ],
      "text/plain": [
       "                                           post_text  label\n",
       "0  It's just over 2 years since I was diagnosed w...      1\n",
       "1  It's Sunday, I need a break, so I'm planning t...      1\n",
       "2  Awake but tired. I need to sleep but my brain ...      1\n",
       "3  RT @SewHQ: #Retro bears make perfect gifts and...      1\n",
       "4  It’s hard to say whether packing lists are mak...      1"
      ]
     },
     "execution_count": 9,
     "metadata": {},
     "output_type": "execute_result"
    }
   ],
   "source": [
    "df = main_df[['post_text','label']]\n",
    "df.head()"
   ]
  },
  {
   "cell_type": "code",
   "execution_count": 10,
   "metadata": {},
   "outputs": [
    {
     "data": {
      "text/plain": [
       "post_text    0\n",
       "label        0\n",
       "dtype: int64"
      ]
     },
     "execution_count": 10,
     "metadata": {},
     "output_type": "execute_result"
    }
   ],
   "source": [
    "# Checking Null values in the dataset\n",
    "df.isnull().sum()"
   ]
  },
  {
   "cell_type": "code",
   "execution_count": 11,
   "metadata": {},
   "outputs": [
    {
     "name": "stdout",
     "output_type": "stream",
     "text": [
      "Maximum Character Length in the Corpus :: 169\n",
      "Minimum Character Length in the Corpus :: 4\n"
     ]
    }
   ],
   "source": [
    "# Character count\n",
    "max_len = max(df['post_text'].apply(len))\n",
    "print(f'Maximum Character Length in the Corpus :: {max_len}')\n",
    "\n",
    "min_len = min(df['post_text'].apply(len))\n",
    "print(f'Minimum Character Length in the Corpus :: {min_len}')\n",
    "\n",
    "df['char_count'] = df['post_text'].apply(len)\n",
    "df['word_count'] = df['post_text'].apply(lambda x: len(sent_tokenize(x)))\n",
    "df['sentence_count'] = df['post_text'].apply(lambda x: len(sent_tokenize(x)))"
   ]
  },
  {
   "cell_type": "code",
   "execution_count": 12,
   "metadata": {},
   "outputs": [
    {
     "data": {
      "image/png": "[encoded data removed]",
      "text/plain": [
       "<Figure size 600x600 with 1 Axes>"
      ]
     },
     "metadata": {},
     "output_type": "display_data"
    },
    {
     "data": {
      "image/png": "[encoded data removed]",
      "text/plain": [
       "<Figure size 600x600 with 1 Axes>"
      ]
     },
     "metadata": {},
     "output_type": "display_data"
    }
   ],
   "source": [
    "# Plot distributions of text lengths\n",
    "plt.figure(figsize=(6, 6))\n",
    "plt.hist(df['char_count'], bins=10, color='blue', alpha=0.7)\n",
    "plt.title('Character Count Distribution')\n",
    "plt.xlabel('Number of Characters')\n",
    "plt.ylabel('Frequency')\n",
    "plt.show()\n",
    "\n",
    "plt.figure(figsize=(6, 6))\n",
    "plt.hist(df['word_count'], bins=10, color='green', alpha=0.7)\n",
    "plt.title('Word Count Distribution')\n",
    "plt.xlabel('Number of Words')\n",
    "plt.ylabel('Frequency')\n",
    "plt.show()"
   ]
  },
  {
   "cell_type": "code",
   "execution_count": 13,
   "metadata": {},
   "outputs": [
    {
     "name": "stdout",
     "output_type": "stream",
     "text": [
      "Number of unique words: 22380\n",
      "Most common words: [('https', 5709), ('rt', 3838), ('http', 3332), ('like', 988), ('depression', 881), ('one', 703), ('get', 607), ('love', 593), ('know', 581), ('people', 574)]\n"
     ]
    },
    {
     "data": {
      "image/png": "[encoded data removed]",
      "text/plain": [
       "<Figure size 1000x600 with 1 Axes>"
      ]
     },
     "metadata": {},
     "output_type": "display_data"
    }
   ],
   "source": [
    "all_words = ' '.join(df['post_text']).lower()\n",
    "tokens = word_tokenize(all_words)\n",
    "tokens = [word for word in tokens if word.isalnum() and word not in stopwords.words('english')]\n",
    "\n",
    "# Counting unique words\n",
    "unique_words = set(tokens)\n",
    "print(f'Number of unique words: {len(unique_words)}')\n",
    "\n",
    "# Identifying the most common words and their frequencies\n",
    "word_freq = Counter(tokens)\n",
    "common_words = word_freq.most_common(10)\n",
    "print('Most common words:', common_words)\n",
    "\n",
    "words, frequencies = zip(*common_words)\n",
    "\n",
    "# Visualizing the common words\n",
    "plt.figure(figsize=(10, 6))\n",
    "plt.bar(words, frequencies, color='skyblue')\n",
    "plt.xlabel('Words')\n",
    "plt.ylabel('Frequencies')\n",
    "plt.title('Top 10 Most Common Words')\n",
    "plt.xticks(rotation=45)\n",
    "plt.show()"
   ]
  },
  {
   "cell_type": "code",
   "execution_count": 14,
   "metadata": {},
   "outputs": [],
   "source": [
    "def preprocess_text(text):\n",
    "    text = text.lower()\n",
    "    text = re.sub(r'[^a-zA-Z\\s\\U0001F600-\\U0001F64F\\U0001F300-\\U0001F5FF\\U0001F680-\\U0001F6FF\\U0001F700-\\U0001F77F]', '', text)\n",
    "    words = word_tokenize(text)\n",
    "    stop_words = set(stopwords.words('english'))\n",
    "    filtered_words = [word for word in words if word not in stop_words]\n",
    "    text = ' '.join(filtered_words)\n",
    "    return text\n",
    "\n",
    "df['cleaned_post_text'] = df['post_text'].apply(preprocess_text)"
   ]
  },
  {
   "cell_type": "code",
   "execution_count": 15,
   "metadata": {},
   "outputs": [
    {
     "data": {
      "text/html": [
       "<div>\n",
       "<style scoped>\n",
       "    .dataframe tbody tr th:only-of-type {\n",
       "        vertical-align: middle;\n",
       "    }\n",
       "\n",
       "    .dataframe tbody tr th {\n",
       "        vertical-align: top;\n",
       "    }\n",
       "\n",
       "    .dataframe thead th {\n",
       "        text-align: right;\n",
       "    }\n",
       "</style>\n",
       "<table border=\"1\" class=\"dataframe\">\n",
       "  <thead>\n",
       "    <tr style=\"text-align: right;\">\n",
       "      <th></th>\n",
       "      <th>post_text</th>\n",
       "      <th>label</th>\n",
       "      <th>char_count</th>\n",
       "      <th>word_count</th>\n",
       "      <th>sentence_count</th>\n",
       "      <th>cleaned_post_text</th>\n",
       "    </tr>\n",
       "  </thead>\n",
       "  <tbody>\n",
       "    <tr>\n",
       "      <th>10000</th>\n",
       "      <td>MY ENEMY'S INVISIBLE , I DON'T KNOW HOW TO FIGHT</td>\n",
       "      <td>0</td>\n",
       "      <td>48</td>\n",
       "      <td>1</td>\n",
       "      <td>1</td>\n",
       "      <td>enemys invisible dont know fight</td>\n",
       "    </tr>\n",
       "    <tr>\n",
       "      <th>10001</th>\n",
       "      <td>im gonna burn my house down into an ugly brack</td>\n",
       "      <td>0</td>\n",
       "      <td>46</td>\n",
       "      <td>1</td>\n",
       "      <td>1</td>\n",
       "      <td>im gon na burn house ugly brack</td>\n",
       "    </tr>\n",
       "    <tr>\n",
       "      <th>10002</th>\n",
       "      <td>@HOT_cocoa_____ counterattack</td>\n",
       "      <td>0</td>\n",
       "      <td>29</td>\n",
       "      <td>1</td>\n",
       "      <td>1</td>\n",
       "      <td>hotcocoa counterattack</td>\n",
       "    </tr>\n",
       "    <tr>\n",
       "      <th>10003</th>\n",
       "      <td>@noob_aspe810 golden.ta-chi</td>\n",
       "      <td>0</td>\n",
       "      <td>27</td>\n",
       "      <td>1</td>\n",
       "      <td>1</td>\n",
       "      <td>noobaspe goldentachi</td>\n",
       "    </tr>\n",
       "    <tr>\n",
       "      <th>10004</th>\n",
       "      <td>lol or spl or drow</td>\n",
       "      <td>0</td>\n",
       "      <td>18</td>\n",
       "      <td>1</td>\n",
       "      <td>1</td>\n",
       "      <td>lol spl drow</td>\n",
       "    </tr>\n",
       "    <tr>\n",
       "      <th>10005</th>\n",
       "      <td>@hure2233 lime39.5648</td>\n",
       "      <td>0</td>\n",
       "      <td>21</td>\n",
       "      <td>1</td>\n",
       "      <td>1</td>\n",
       "      <td>hure lime</td>\n",
       "    </tr>\n",
       "    <tr>\n",
       "      <th>10006</th>\n",
       "      <td>RT @LeagueOfLegends: PBE Preview: Warring King...</td>\n",
       "      <td>0</td>\n",
       "      <td>91</td>\n",
       "      <td>1</td>\n",
       "      <td>1</td>\n",
       "      <td>rt leagueoflegends pbe preview warring kingdom...</td>\n",
       "    </tr>\n",
       "    <tr>\n",
       "      <th>10007</th>\n",
       "      <td>RT @LeagueOfLegends: PBE Preview: Heartseeker ...</td>\n",
       "      <td>0</td>\n",
       "      <td>86</td>\n",
       "      <td>1</td>\n",
       "      <td>1</td>\n",
       "      <td>rt leagueoflegends pbe preview heartseeker qui...</td>\n",
       "    </tr>\n",
       "    <tr>\n",
       "      <th>10008</th>\n",
       "      <td>Why cant i see</td>\n",
       "      <td>0</td>\n",
       "      <td>14</td>\n",
       "      <td>1</td>\n",
       "      <td>1</td>\n",
       "      <td>cant see</td>\n",
       "    </tr>\n",
       "    <tr>\n",
       "      <th>10009</th>\n",
       "      <td>ARROW</td>\n",
       "      <td>0</td>\n",
       "      <td>5</td>\n",
       "      <td>1</td>\n",
       "      <td>1</td>\n",
       "      <td>arrow</td>\n",
       "    </tr>\n",
       "  </tbody>\n",
       "</table>\n",
       "</div>"
      ],
      "text/plain": [
       "                                               post_text  label  char_count  \\\n",
       "10000   MY ENEMY'S INVISIBLE , I DON'T KNOW HOW TO FIGHT      0          48   \n",
       "10001     im gonna burn my house down into an ugly brack      0          46   \n",
       "10002                      @HOT_cocoa_____ counterattack      0          29   \n",
       "10003                        @noob_aspe810 golden.ta-chi      0          27   \n",
       "10004                                 lol or spl or drow      0          18   \n",
       "10005                              @hure2233 lime39.5648      0          21   \n",
       "10006  RT @LeagueOfLegends: PBE Preview: Warring King...      0          91   \n",
       "10007  RT @LeagueOfLegends: PBE Preview: Heartseeker ...      0          86   \n",
       "10008                                     Why cant i see      0          14   \n",
       "10009                                              ARROW      0           5   \n",
       "\n",
       "       word_count  sentence_count  \\\n",
       "10000           1               1   \n",
       "10001           1               1   \n",
       "10002           1               1   \n",
       "10003           1               1   \n",
       "10004           1               1   \n",
       "10005           1               1   \n",
       "10006           1               1   \n",
       "10007           1               1   \n",
       "10008           1               1   \n",
       "10009           1               1   \n",
       "\n",
       "                                       cleaned_post_text  \n",
       "10000                   enemys invisible dont know fight  \n",
       "10001                    im gon na burn house ugly brack  \n",
       "10002                             hotcocoa counterattack  \n",
       "10003                               noobaspe goldentachi  \n",
       "10004                                       lol spl drow  \n",
       "10005                                          hure lime  \n",
       "10006  rt leagueoflegends pbe preview warring kingdom...  \n",
       "10007  rt leagueoflegends pbe preview heartseeker qui...  \n",
       "10008                                           cant see  \n",
       "10009                                              arrow  "
      ]
     },
     "execution_count": 15,
     "metadata": {},
     "output_type": "execute_result"
    }
   ],
   "source": [
    "df[df['label'] == 0].head(10)"
   ]
  },
  {
   "cell_type": "code",
   "execution_count": 16,
   "metadata": {},
   "outputs": [
    {
     "data": {
      "text/html": [
       "<div>\n",
       "<style scoped>\n",
       "    .dataframe tbody tr th:only-of-type {\n",
       "        vertical-align: middle;\n",
       "    }\n",
       "\n",
       "    .dataframe tbody tr th {\n",
       "        vertical-align: top;\n",
       "    }\n",
       "\n",
       "    .dataframe thead th {\n",
       "        text-align: right;\n",
       "    }\n",
       "</style>\n",
       "<table border=\"1\" class=\"dataframe\">\n",
       "  <thead>\n",
       "    <tr style=\"text-align: right;\">\n",
       "      <th></th>\n",
       "      <th>post_text</th>\n",
       "      <th>label</th>\n",
       "      <th>char_count</th>\n",
       "      <th>word_count</th>\n",
       "      <th>sentence_count</th>\n",
       "      <th>cleaned_post_text</th>\n",
       "    </tr>\n",
       "  </thead>\n",
       "  <tbody>\n",
       "    <tr>\n",
       "      <th>0</th>\n",
       "      <td>It's just over 2 years since I was diagnosed w...</td>\n",
       "      <td>1</td>\n",
       "      <td>140</td>\n",
       "      <td>2</td>\n",
       "      <td>2</td>\n",
       "      <td>years since diagnosed anxiety depression today...</td>\n",
       "    </tr>\n",
       "    <tr>\n",
       "      <th>1</th>\n",
       "      <td>It's Sunday, I need a break, so I'm planning t...</td>\n",
       "      <td>1</td>\n",
       "      <td>95</td>\n",
       "      <td>1</td>\n",
       "      <td>1</td>\n",
       "      <td>sunday need break im planning spend little tim...</td>\n",
       "    </tr>\n",
       "    <tr>\n",
       "      <th>2</th>\n",
       "      <td>Awake but tired. I need to sleep but my brain ...</td>\n",
       "      <td>1</td>\n",
       "      <td>64</td>\n",
       "      <td>2</td>\n",
       "      <td>2</td>\n",
       "      <td>awake tired need sleep brain ideas</td>\n",
       "    </tr>\n",
       "    <tr>\n",
       "      <th>3</th>\n",
       "      <td>RT @SewHQ: #Retro bears make perfect gifts and...</td>\n",
       "      <td>1</td>\n",
       "      <td>140</td>\n",
       "      <td>3</td>\n",
       "      <td>3</td>\n",
       "      <td>rt sewhq retro bears make perfect gifts great ...</td>\n",
       "    </tr>\n",
       "    <tr>\n",
       "      <th>4</th>\n",
       "      <td>It’s hard to say whether packing lists are mak...</td>\n",
       "      <td>1</td>\n",
       "      <td>133</td>\n",
       "      <td>1</td>\n",
       "      <td>1</td>\n",
       "      <td>hard say whether packing lists making life eas...</td>\n",
       "    </tr>\n",
       "    <tr>\n",
       "      <th>5</th>\n",
       "      <td>Making packing lists is my new hobby... #movin...</td>\n",
       "      <td>1</td>\n",
       "      <td>52</td>\n",
       "      <td>1</td>\n",
       "      <td>1</td>\n",
       "      <td>making packing lists new hobby movinghouse</td>\n",
       "    </tr>\n",
       "    <tr>\n",
       "      <th>6</th>\n",
       "      <td>At what point does keeping stuff for nostalgic...</td>\n",
       "      <td>1</td>\n",
       "      <td>110</td>\n",
       "      <td>2</td>\n",
       "      <td>2</td>\n",
       "      <td>point keeping stuff nostalgic reasons cross li...</td>\n",
       "    </tr>\n",
       "    <tr>\n",
       "      <th>7</th>\n",
       "      <td>Currently in the finding-boxes-of-random-shit ...</td>\n",
       "      <td>1</td>\n",
       "      <td>92</td>\n",
       "      <td>2</td>\n",
       "      <td>2</td>\n",
       "      <td>currently findingboxesofrandomshit packing pha...</td>\n",
       "    </tr>\n",
       "    <tr>\n",
       "      <th>8</th>\n",
       "      <td>Can't be bothered to cook, take away on the wa...</td>\n",
       "      <td>1</td>\n",
       "      <td>57</td>\n",
       "      <td>1</td>\n",
       "      <td>1</td>\n",
       "      <td>cant bothered cook take away way 😁👍🏼 lazy</td>\n",
       "    </tr>\n",
       "    <tr>\n",
       "      <th>9</th>\n",
       "      <td>RT @itventsnews: ITV releases promo video for ...</td>\n",
       "      <td>1</td>\n",
       "      <td>125</td>\n",
       "      <td>1</td>\n",
       "      <td>1</td>\n",
       "      <td>rt itventsnews itv releases promo video final ...</td>\n",
       "    </tr>\n",
       "  </tbody>\n",
       "</table>\n",
       "</div>"
      ],
      "text/plain": [
       "                                           post_text  label  char_count  \\\n",
       "0  It's just over 2 years since I was diagnosed w...      1         140   \n",
       "1  It's Sunday, I need a break, so I'm planning t...      1          95   \n",
       "2  Awake but tired. I need to sleep but my brain ...      1          64   \n",
       "3  RT @SewHQ: #Retro bears make perfect gifts and...      1         140   \n",
       "4  It’s hard to say whether packing lists are mak...      1         133   \n",
       "5  Making packing lists is my new hobby... #movin...      1          52   \n",
       "6  At what point does keeping stuff for nostalgic...      1         110   \n",
       "7  Currently in the finding-boxes-of-random-shit ...      1          92   \n",
       "8  Can't be bothered to cook, take away on the wa...      1          57   \n",
       "9  RT @itventsnews: ITV releases promo video for ...      1         125   \n",
       "\n",
       "   word_count  sentence_count  \\\n",
       "0           2               2   \n",
       "1           1               1   \n",
       "2           2               2   \n",
       "3           3               3   \n",
       "4           1               1   \n",
       "5           1               1   \n",
       "6           2               2   \n",
       "7           2               2   \n",
       "8           1               1   \n",
       "9           1               1   \n",
       "\n",
       "                                   cleaned_post_text  \n",
       "0  years since diagnosed anxiety depression today...  \n",
       "1  sunday need break im planning spend little tim...  \n",
       "2                 awake tired need sleep brain ideas  \n",
       "3  rt sewhq retro bears make perfect gifts great ...  \n",
       "4  hard say whether packing lists making life eas...  \n",
       "5         making packing lists new hobby movinghouse  \n",
       "6  point keeping stuff nostalgic reasons cross li...  \n",
       "7  currently findingboxesofrandomshit packing pha...  \n",
       "8          cant bothered cook take away way 😁👍🏼 lazy  \n",
       "9  rt itventsnews itv releases promo video final ...  "
      ]
     },
     "execution_count": 16,
     "metadata": {},
     "output_type": "execute_result"
    }
   ],
   "source": [
    "df[df['label'] == 1].head(10)"
   ]
  },
  {
   "cell_type": "code",
   "execution_count": 17,
   "metadata": {},
   "outputs": [
    {
     "name": "stderr",
     "output_type": "stream",
     "text": [
      "[nltk_data] Downloading package vader_lexicon to\n",
      "[nltk_data]     C:\\Users\\Shree123\\AppData\\Roaming\\nltk_data...\n",
      "[nltk_data]   Package vader_lexicon is already up-to-date!\n"
     ]
    }
   ],
   "source": [
    "from nltk.sentiment.vader import SentimentIntensityAnalyzer\n",
    "\n",
    "nltk.download('vader_lexicon')\n",
    "\n",
    "vader_analyzer = SentimentIntensityAnalyzer()\n",
    "\n",
    "def sentiment_analyzer(text):\n",
    "    scores = vader_analyzer.polarity_scores(text)\n",
    "    compound_score = scores['compound']\n",
    "    return 'positive' if compound_score >= 0 else 'negative'    "
   ]
  },
  {
   "cell_type": "code",
   "execution_count": 18,
   "metadata": {},
   "outputs": [
    {
     "data": {
      "text/html": [
       "<div>\n",
       "<style scoped>\n",
       "    .dataframe tbody tr th:only-of-type {\n",
       "        vertical-align: middle;\n",
       "    }\n",
       "\n",
       "    .dataframe tbody tr th {\n",
       "        vertical-align: top;\n",
       "    }\n",
       "\n",
       "    .dataframe thead th {\n",
       "        text-align: right;\n",
       "    }\n",
       "</style>\n",
       "<table border=\"1\" class=\"dataframe\">\n",
       "  <thead>\n",
       "    <tr style=\"text-align: right;\">\n",
       "      <th></th>\n",
       "      <th>post_text</th>\n",
       "      <th>label</th>\n",
       "      <th>char_count</th>\n",
       "      <th>word_count</th>\n",
       "      <th>sentence_count</th>\n",
       "      <th>cleaned_post_text</th>\n",
       "      <th>sentiment</th>\n",
       "    </tr>\n",
       "  </thead>\n",
       "  <tbody>\n",
       "    <tr>\n",
       "      <th>0</th>\n",
       "      <td>It's just over 2 years since I was diagnosed w...</td>\n",
       "      <td>1</td>\n",
       "      <td>140</td>\n",
       "      <td>2</td>\n",
       "      <td>2</td>\n",
       "      <td>years since diagnosed anxiety depression today...</td>\n",
       "      <td>negative</td>\n",
       "    </tr>\n",
       "    <tr>\n",
       "      <th>1</th>\n",
       "      <td>It's Sunday, I need a break, so I'm planning t...</td>\n",
       "      <td>1</td>\n",
       "      <td>95</td>\n",
       "      <td>1</td>\n",
       "      <td>1</td>\n",
       "      <td>sunday need break im planning spend little tim...</td>\n",
       "      <td>positive</td>\n",
       "    </tr>\n",
       "    <tr>\n",
       "      <th>2</th>\n",
       "      <td>Awake but tired. I need to sleep but my brain ...</td>\n",
       "      <td>1</td>\n",
       "      <td>64</td>\n",
       "      <td>2</td>\n",
       "      <td>2</td>\n",
       "      <td>awake tired need sleep brain ideas</td>\n",
       "      <td>negative</td>\n",
       "    </tr>\n",
       "    <tr>\n",
       "      <th>3</th>\n",
       "      <td>RT @SewHQ: #Retro bears make perfect gifts and...</td>\n",
       "      <td>1</td>\n",
       "      <td>140</td>\n",
       "      <td>3</td>\n",
       "      <td>3</td>\n",
       "      <td>rt sewhq retro bears make perfect gifts great ...</td>\n",
       "      <td>positive</td>\n",
       "    </tr>\n",
       "    <tr>\n",
       "      <th>4</th>\n",
       "      <td>It’s hard to say whether packing lists are mak...</td>\n",
       "      <td>1</td>\n",
       "      <td>133</td>\n",
       "      <td>1</td>\n",
       "      <td>1</td>\n",
       "      <td>hard say whether packing lists making life eas...</td>\n",
       "      <td>positive</td>\n",
       "    </tr>\n",
       "  </tbody>\n",
       "</table>\n",
       "</div>"
      ],
      "text/plain": [
       "                                           post_text  label  char_count  \\\n",
       "0  It's just over 2 years since I was diagnosed w...      1         140   \n",
       "1  It's Sunday, I need a break, so I'm planning t...      1          95   \n",
       "2  Awake but tired. I need to sleep but my brain ...      1          64   \n",
       "3  RT @SewHQ: #Retro bears make perfect gifts and...      1         140   \n",
       "4  It’s hard to say whether packing lists are mak...      1         133   \n",
       "\n",
       "   word_count  sentence_count  \\\n",
       "0           2               2   \n",
       "1           1               1   \n",
       "2           2               2   \n",
       "3           3               3   \n",
       "4           1               1   \n",
       "\n",
       "                                   cleaned_post_text sentiment  \n",
       "0  years since diagnosed anxiety depression today...  negative  \n",
       "1  sunday need break im planning spend little tim...  positive  \n",
       "2                 awake tired need sleep brain ideas  negative  \n",
       "3  rt sewhq retro bears make perfect gifts great ...  positive  \n",
       "4  hard say whether packing lists making life eas...  positive  "
      ]
     },
     "execution_count": 18,
     "metadata": {},
     "output_type": "execute_result"
    }
   ],
   "source": [
    "df['sentiment'] = df['cleaned_post_text'].apply(sentiment_analyzer)\n",
    "df.head()"
   ]
  },
  {
   "cell_type": "code",
   "execution_count": 19,
   "metadata": {},
   "outputs": [
    {
     "data": {
      "text/plain": [
       "<Axes: title={'center': 'Class Distribution'}, xlabel='sentiment'>"
      ]
     },
     "execution_count": 19,
     "metadata": {},
     "output_type": "execute_result"
    },
    {
     "data": {
      "image/png": "[encoded data removed]",
      "text/plain": [
       "<Figure size 640x480 with 1 Axes>"
      ]
     },
     "metadata": {},
     "output_type": "display_data"
    }
   ],
   "source": [
    "result= df['sentiment'].value_counts()\n",
    "sns.set_style('whitegrid')\n",
    "sns.despine(left=True, bottom=True)\n",
    "plt.title('Class Distribution')\n",
    "result.plot(kind='bar', color = ['plum','cyan'])"
   ]
  },
  {
   "cell_type": "code",
   "execution_count": 20,
   "metadata": {},
   "outputs": [
    {
     "data": {
      "text/plain": [
       "0        [years, since, diagnosed, anxiety, depression,...\n",
       "1        [sunday, need, break, im, planning, spend, lit...\n",
       "2                [awake, tired, need, sleep, brain, ideas]\n",
       "3        [rt, sewhq, retro, bears, make, perfect, gifts...\n",
       "4        [hard, say, whether, packing, lists, making, l...\n",
       "                               ...                        \n",
       "19995                [day, without, sunshine, like, night]\n",
       "19996    [borens, laws, charge, ponder, trouble, delega...\n",
       "19997    [flow, chart, thoroughly, oversold, piece, pro...\n",
       "19998            [ships, safe, harbor, never, meant, stay]\n",
       "19999                  [black, holes, god, dividing, zero]\n",
       "Name: tokens, Length: 20000, dtype: object"
      ]
     },
     "execution_count": 20,
     "metadata": {},
     "output_type": "execute_result"
    }
   ],
   "source": [
    "from nltk.tokenize import word_tokenize\n",
    "\n",
    "df['tokens'] = df['cleaned_post_text'].apply(word_tokenize)\n",
    "df['tokens']"
   ]
  },
  {
   "cell_type": "code",
   "execution_count": 21,
   "metadata": {},
   "outputs": [],
   "source": [
    "from sklearn.feature_extraction.text import CountVectorizer"
   ]
  },
  {
   "cell_type": "code",
   "execution_count": 22,
   "metadata": {},
   "outputs": [
    {
     "name": "stdout",
     "output_type": "stream",
     "text": [
      "[[1 0 1 0 0]\n",
      " [0 0 1 0 0]\n",
      " [0 0 0 0 0]\n",
      " ...\n",
      " [0 0 0 0 0]\n",
      " [0 0 0 0 0]\n",
      " [0 0 0 0 0]]\n"
     ]
    }
   ],
   "source": [
    "y = df['sentiment']\n",
    "\n",
    "vectorizer = CountVectorizer(max_features=5)\n",
    "\n",
    "X = vectorizer.fit_transform(df['cleaned_post_text'])\n",
    "\n",
    "print(X.toarray())"
   ]
  },
  {
   "cell_type": "code",
   "execution_count": 23,
   "metadata": {},
   "outputs": [],
   "source": [
    "from sklearn.model_selection import train_test_split\n",
    "from xgboost import XGBClassifier\n",
    "from catboost import CatBoostClassifier\n",
    "\n",
    "from sklearn.pipeline import Pipeline\n",
    "from sklearn.model_selection import GridSearchCV, cross_val_score\n",
    "from sklearn.metrics import accuracy_score, classification_report"
   ]
  },
  {
   "cell_type": "code",
   "execution_count": null,
   "metadata": {},
   "outputs": [
    {
     "ename": "",
     "evalue": "",
     "output_type": "error",
     "traceback": [
      "\u001b[1;31mnotebook controller is DISPOSED. \n",
      "\u001b[1;31mView Jupyter <a href='command:jupyter.viewOutput'>log</a> for further details."
     ]
    },
    {
     "ename": "",
     "evalue": "",
     "output_type": "error",
     "traceback": [
      "\u001b[1;31mnotebook controller is DISPOSED. \n",
      "\u001b[1;31mView Jupyter <a href='command:jupyter.viewOutput'>log</a> for further details."
     ]
    }
   ],
   "source": [
    "X_train, X_test, y_train, y_test = train_test_split(X, y, random_state=0, test_size= 0.2)\n",
    "\n",
    "pipeline = Pipeline([\n",
    "    ('XGB', XGBClassifier()),\n",
    "    ('CB', CatBoostClassifier())\n",
    "])\n",
    "\n"
   ]
  }
 ],
 "metadata": {
  "kernelspec": {
   "display_name": "Python 3",
   "language": "python",
   "name": "python3"
  },
  "language_info": {
   "codemirror_mode": {
    "name": "ipython",
    "version": 3
   },
   "file_extension": ".py",
   "mimetype": "text/x-python",
   "name": "python",
   "nbconvert_exporter": "python",
   "pygments_lexer": "ipython3",
   "version": "3.9.19"
  }
 },
 "nbformat": 4,
 "nbformat_minor": 2
}
